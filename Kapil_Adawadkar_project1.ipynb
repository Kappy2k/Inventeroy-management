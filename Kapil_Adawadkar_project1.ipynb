{
  "nbformat": 4,
  "nbformat_minor": 0,
  "metadata": {
    "colab": {
      "name": "Kapil Adawadkar_project1.ipynb",
      "provenance": []
    },
    "kernelspec": {
      "name": "python3",
      "display_name": "Python 3"
    },
    "language_info": {
      "name": "python"
    }
  },
  "cells": [
    {
      "cell_type": "code",
      "metadata": {
        "id": "qJRYEXUMX1b-"
      },
      "source": [
        "import json\n",
        "records={\"1001\": {\"name\": \"Choco Cake\", \"qn\": 34, \"pr\": 100}, \"1002\": {\"name\": \"Milk Cake\", \"pr\": 800, \"qn\": 100}, \"1003\": {\"name\": \"Drink\", \"pr\": 85, \"qn\": 100}, \"1004\": {\"name\": \"Candy\", \"pr\": 5, \"qn\": 1000}, \"1005\": {\"name\": \"Pen\", \"pr\": 20, \"qn\": 100}, \"1006\": {\"name\": \"Phone\", \"pr\": 50000, \"qn\": 10}, \"1007\": {\"name\": \"Mic\", \"pr\": 1500, \"qn\": 0}, \"1008\": {\"name\": \"Case\", \"pr\": 599, \"qn\": 5}, \"1009\": {\"name\": \"Keyboard\", \"pr\": 1999, \"qn\": 10}}\n",
        "rec=json.dumps(records)"
      ],
      "execution_count": 19,
      "outputs": []
    },
    {
      "cell_type": "code",
      "metadata": {
        "id": "nY0ELUlOYjp9"
      },
      "source": [
        "fd=open('records.json','w')\n",
        "fd.write(rec)\n",
        "fd.close()"
      ],
      "execution_count": 18,
      "outputs": []
    },
    {
      "cell_type": "code",
      "metadata": {
        "id": "vLLPGnS1Z5zV"
      },
      "source": [
        "import random\n",
        "for i in range(21):\n",
        "  prod_id=input('prod_id')\n",
        "  u_name=input('name')\n",
        "  u_qn=random.randint(200,300)\n",
        "  u_pr=random.randint(100,150)\n",
        "  records[prod_id]={'name':u_name,'qn':u_qn,'pr':u_pr}"
      ],
      "execution_count": null,
      "outputs": []
    },
    {
      "cell_type": "code",
      "metadata": {
        "id": "YSq0QhU_fOeR"
      },
      "source": [
        "print(records)"
      ],
      "execution_count": null,
      "outputs": []
    },
    {
      "cell_type": "code",
      "metadata": {
        "id": "EQHXNl1wgCAK"
      },
      "source": [
        "a=json.dumps(records)\n",
        "fd=open('record.json','w')\n",
        "fd.write(a)\n",
        "fd.close()"
      ],
      "execution_count": 26,
      "outputs": []
    },
    {
      "cell_type": "code",
      "metadata": {
        "id": "lpDb4D7uhwRP"
      },
      "source": [
        "print(records)"
      ],
      "execution_count": null,
      "outputs": []
    },
    {
      "cell_type": "markdown",
      "metadata": {
        "id": "ciueZFw3lm61"
      },
      "source": [
        "PURCHASE"
      ]
    },
    {
      "cell_type": "code",
      "metadata": {
        "id": "EtlEfGX1lrQk"
      },
      "source": [
        "for i in range(3):\n",
        "  ui_prod=input('prod_id')\n",
        "  ui_quant=int(input('qn'))\n",
        "  records[ui_prod]['qn']=records[ui_prod]['qn']-ui_quant"
      ],
      "execution_count": null,
      "outputs": []
    },
    {
      "cell_type": "code",
      "metadata": {
        "id": "kF7RJODZnpXh"
      },
      "source": [
        "print(records)"
      ],
      "execution_count": null,
      "outputs": []
    },
    {
      "cell_type": "code",
      "metadata": {
        "id": "Fz5CZcshpAdU"
      },
      "source": [
        "a=json.dumps(records)\n",
        "fd=open('record.json','w')\n",
        "fd.write(a)\n",
        "fd.close()"
      ],
      "execution_count": 37,
      "outputs": []
    }
  ]
}